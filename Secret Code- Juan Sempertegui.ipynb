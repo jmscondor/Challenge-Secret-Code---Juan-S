{
 "cells": [
  {
   "cell_type": "code",
   "execution_count": null,
   "id": "0999a99e",
   "metadata": {},
   "outputs": [],
   "source": [
    "# Write a program that checks for the correct pin of the account.\n",
    "\n",
    "    #You set the pin (e.g. 12345).\n",
    "    #When a user types in the correct pin, then display \"Correct, welcome back.\"\n",
    "    #When a user types in incorrect pin, then display \"Incorrect, try again.\"\n",
    "    #When a user ran out of tries, then display \"Sorry, you have been locked out.\"\n",
    "\n",
    "# Each user has the maximum of 3 tries.\n"
   ]
  },
  {
   "cell_type": "code",
   "execution_count": 3,
   "id": "de114fb1",
   "metadata": {},
   "outputs": [
    {
     "name": "stdout",
     "output_type": "stream",
     "text": [
      "Enter your PIN... 456\n",
      "Incorrect.  Try again.\n",
      "Enter your PIN... 654\n",
      "Incorrect.  Try again.\n",
      "Enter your PIN... 5698\n",
      "Correct, welcome back.\n"
     ]
    }
   ],
   "source": [
    "pin = \"5698\"\n",
    "answer = input(\"Enter your PIN... \")\n",
    "count = 1\n",
    "\n",
    "while count <= 3:\n",
    "\n",
    "    if answer == pin :\n",
    "        print (\"Correct, welcome back.\")  \n",
    "       \n",
    "    else:\n",
    "        print (\"Incorrect.  Try again.\")\n",
    "        count + 1\n",
    "        answer = input(\"Enter your PIN... \")\n",
    "        if answer == pin :\n",
    "            print (\"Correct, welcome back.\") \n",
    "        else: \n",
    "            print (\"Incorrect.  Try again.\")\n",
    "            count + 1\n",
    "            answer = input(\"Enter your PIN... \")\n",
    "            if answer == pin :\n",
    "                print (\"Correct, welcome back.\") \n",
    "            else:\n",
    "                print(\"Sorry, you have been locked out.\")\n",
    "        break\n",
    "    break\n",
    "        "
   ]
  },
  {
   "cell_type": "code",
   "execution_count": null,
   "id": "0002464d",
   "metadata": {},
   "outputs": [],
   "source": []
  },
  {
   "cell_type": "code",
   "execution_count": null,
   "id": "1471f39a",
   "metadata": {},
   "outputs": [],
   "source": []
  }
 ],
 "metadata": {
  "kernelspec": {
   "display_name": "Python 3 (ipykernel)",
   "language": "python",
   "name": "python3"
  },
  "language_info": {
   "codemirror_mode": {
    "name": "ipython",
    "version": 3
   },
   "file_extension": ".py",
   "mimetype": "text/x-python",
   "name": "python",
   "nbconvert_exporter": "python",
   "pygments_lexer": "ipython3",
   "version": "3.9.12"
  }
 },
 "nbformat": 4,
 "nbformat_minor": 5
}
